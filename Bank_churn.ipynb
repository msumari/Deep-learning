{
  "nbformat": 4,
  "nbformat_minor": 0,
  "metadata": {
    "colab": {
      "name": "Bank_churn.ipynb",
      "provenance": [],
      "collapsed_sections": [],
      "authorship_tag": "ABX9TyP2//F41JVfR4bz4GP0yZVU"
    },
    "kernelspec": {
      "name": "python3",
      "display_name": "Python 3"
    }
  },
  "cells": [
    {
      "cell_type": "code",
      "metadata": {
        "id": "mOSk1d1Rbm-Y",
        "colab_type": "code",
        "outputId": "7a005d00-8b64-42a6-d823-24857dc27f01",
        "colab": {
          "base_uri": "https://localhost:8080/",
          "height": 258
        }
      },
      "source": [
        "pip install --upgrade --no-deps git+git://github.com/Theano/Theano.git"
      ],
      "execution_count": 0,
      "outputs": [
        {
          "output_type": "stream",
          "text": [
            "Collecting git+git://github.com/Theano/Theano.git\n",
            "  Cloning git://github.com/Theano/Theano.git to /tmp/pip-req-build-fa1ae6ez\n",
            "  Running command git clone -q git://github.com/Theano/Theano.git /tmp/pip-req-build-fa1ae6ez\n",
            "Building wheels for collected packages: Theano\n",
            "  Building wheel for Theano (setup.py) ... \u001b[?25l\u001b[?25hdone\n",
            "  Created wheel for Theano: filename=Theano-1.0.4+34.g473d74ea4-cp36-none-any.whl size=2667786 sha256=52cb5a8cf685aa609d05b9e9ff51989cda415862a8a63bd219ceafd4e69bc407\n",
            "  Stored in directory: /tmp/pip-ephem-wheel-cache-8srk7pn0/wheels/ae/32/7c/62beb8371953eb20c271b3bac7d0e56e1a2020d46994346b52\n",
            "Successfully built Theano\n",
            "Installing collected packages: Theano\n",
            "  Found existing installation: Theano 1.0.4+34.g473d74ea4\n",
            "    Uninstalling Theano-1.0.4+34.g473d74ea4:\n",
            "      Successfully uninstalled Theano-1.0.4+34.g473d74ea4\n",
            "Successfully installed Theano-1.0.4+34.g473d74ea4\n"
          ],
          "name": "stdout"
        }
      ]
    },
    {
      "cell_type": "code",
      "metadata": {
        "id": "E3KLwQA1eoMf",
        "colab_type": "code",
        "colab": {}
      },
      "source": [
        "pip install --upgrade keras\n"
      ],
      "execution_count": 0,
      "outputs": []
    },
    {
      "cell_type": "code",
      "metadata": {
        "id": "E1ZPuv83jOK1",
        "colab_type": "code",
        "colab": {}
      },
      "source": [
        "%tensorflow_version 2.x"
      ],
      "execution_count": 0,
      "outputs": []
    },
    {
      "cell_type": "code",
      "metadata": {
        "id": "JlhTvW3xjxux",
        "colab_type": "code",
        "colab": {}
      },
      "source": [
        "import numpy as np\n",
        "import matplotlib.pyplot as plt\n",
        "import pandas as pd\n"
      ],
      "execution_count": 0,
      "outputs": []
    },
    {
      "cell_type": "code",
      "metadata": {
        "id": "XGAKNW4NjyYW",
        "colab_type": "code",
        "colab": {}
      },
      "source": [
        "dataset = pd.read_csv('Churn_Modelling.csv')"
      ],
      "execution_count": 0,
      "outputs": []
    },
    {
      "cell_type": "code",
      "metadata": {
        "id": "GEoIq8pTjySj",
        "colab_type": "code",
        "colab": {}
      },
      "source": [
        "x = dataset.iloc[:, 3:13].values"
      ],
      "execution_count": 0,
      "outputs": []
    },
    {
      "cell_type": "code",
      "metadata": {
        "id": "h4eti76JjyCg",
        "colab_type": "code",
        "colab": {}
      },
      "source": [
        "y = dataset.iloc[:, 13].values"
      ],
      "execution_count": 0,
      "outputs": []
    },
    {
      "cell_type": "code",
      "metadata": {
        "id": "bv1K260os73s",
        "colab_type": "code",
        "colab": {}
      },
      "source": [
        "from sklearn.preprocessing import LabelEncoder,OneHotEncoder\n",
        "from sklearn.compose import ColumnTransformer"
      ],
      "execution_count": 0,
      "outputs": []
    },
    {
      "cell_type": "code",
      "metadata": {
        "id": "MkSE2rUas79d",
        "colab_type": "code",
        "colab": {}
      },
      "source": [
        "LabelEncoder_C = LabelEncoder()\n",
        "x[:, 1]= LabelEncoder_C.fit_transform(x[:, 1])"
      ],
      "execution_count": 0,
      "outputs": []
    },
    {
      "cell_type": "code",
      "metadata": {
        "id": "00LMKG_Ws7w1",
        "colab_type": "code",
        "colab": {}
      },
      "source": [
        "LabelEncoder_G = LabelEncoder()\n",
        "x[:, 2]= LabelEncoder_G.fit_transform(x[:, 2])"
      ],
      "execution_count": 0,
      "outputs": []
    },
    {
      "cell_type": "code",
      "metadata": {
        "id": "CL8dVbdqwaTl",
        "colab_type": "code",
        "colab": {}
      },
      "source": [
        "hotx = ColumnTransformer([(\"C\", OneHotEncoder(), [1])], remainder = 'passthrough')\n",
        "x = hotx.fit_transform(x)"
      ],
      "execution_count": 0,
      "outputs": []
    },
    {
      "cell_type": "code",
      "metadata": {
        "id": "8abPZ2S9wawK",
        "colab_type": "code",
        "colab": {}
      },
      "source": [
        "x=x[:, 1:]"
      ],
      "execution_count": 0,
      "outputs": []
    },
    {
      "cell_type": "code",
      "metadata": {
        "id": "mVCckc-ywbCA",
        "colab_type": "code",
        "colab": {}
      },
      "source": [
        "from sklearn.model_selection import train_test_split\n",
        "x_train,x_test,y_train,y_test = train_test_split(x,y, test_size=0.2, random_state=0)"
      ],
      "execution_count": 0,
      "outputs": []
    },
    {
      "cell_type": "code",
      "metadata": {
        "id": "_7pVZkWAwbJA",
        "colab_type": "code",
        "colab": {}
      },
      "source": [
        "from sklearn.preprocessing import StandardScaler\n",
        "ss = StandardScaler()\n",
        "x_train = ss.fit_transform(x_train)\n",
        "x_test = ss.fit_transform(x_test)"
      ],
      "execution_count": 0,
      "outputs": []
    },
    {
      "cell_type": "code",
      "metadata": {
        "id": "oWWqpBnywbc2",
        "colab_type": "code",
        "colab": {}
      },
      "source": [
        "import keras\n",
        "from keras.models import Sequential\n",
        "from keras.layers import Dense"
      ],
      "execution_count": 0,
      "outputs": []
    },
    {
      "cell_type": "code",
      "metadata": {
        "id": "rXP8edS5wbh1",
        "colab_type": "code",
        "colab": {}
      },
      "source": [
        "classifier = Sequential()"
      ],
      "execution_count": 0,
      "outputs": []
    },
    {
      "cell_type": "code",
      "metadata": {
        "id": "srh3EZYvwbzr",
        "colab_type": "code",
        "colab": {}
      },
      "source": [
        "classifier.add(Dense(units=6,kernel_initializer='uniform',activation='relu',input_dim=11))"
      ],
      "execution_count": 0,
      "outputs": []
    },
    {
      "cell_type": "code",
      "metadata": {
        "id": "JDgMLgMGwb7R",
        "colab_type": "code",
        "colab": {}
      },
      "source": [
        "classifier.add(Dense(units=3,kernel_initializer='uniform',activation='relu'))"
      ],
      "execution_count": 0,
      "outputs": []
    },
    {
      "cell_type": "code",
      "metadata": {
        "id": "RYKNToydwcVm",
        "colab_type": "code",
        "colab": {}
      },
      "source": [
        "classifier.add(Dense(units=1,kernel_initializer='uniform',activation='sigmoid'))"
      ],
      "execution_count": 0,
      "outputs": []
    },
    {
      "cell_type": "code",
      "metadata": {
        "id": "DQRLMRm6wcod",
        "colab_type": "code",
        "colab": {}
      },
      "source": [
        "classifier.compile(optimizer='adam',loss='binary_crossentropy',metrics=['accuracy'])"
      ],
      "execution_count": 0,
      "outputs": []
    },
    {
      "cell_type": "code",
      "metadata": {
        "id": "7IFrK9D2LcMx",
        "colab_type": "code",
        "colab": {}
      },
      "source": [
        "classifier.fit(x_train,y_train,batch_size=50,epochs=500)"
      ],
      "execution_count": 0,
      "outputs": []
    },
    {
      "cell_type": "code",
      "metadata": {
        "id": "QpmgM4ORLcdX",
        "colab_type": "code",
        "colab": {}
      },
      "source": [
        "y_pred = classifier.predict(x_test)\n",
        "y_pred =(y_pred>0.553)"
      ],
      "execution_count": 0,
      "outputs": []
    },
    {
      "cell_type": "code",
      "metadata": {
        "id": "CVLsYcS0wcwO",
        "colab_type": "code",
        "colab": {}
      },
      "source": [
        "from sklearn.metrics import confusion_matrix\n",
        "km = confusion_matrix(y_test,y_pred)"
      ],
      "execution_count": 0,
      "outputs": []
    },
    {
      "cell_type": "code",
      "metadata": {
        "id": "aUTKW1tTwcvO",
        "colab_type": "code",
        "colab": {}
      },
      "source": [
        "km\n"
      ],
      "execution_count": 0,
      "outputs": []
    }
  ]
}